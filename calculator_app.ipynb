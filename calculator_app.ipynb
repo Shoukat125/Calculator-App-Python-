{
  "nbformat": 4,
  "nbformat_minor": 0,
  "metadata": {
    "colab": {
      "provenance": []
    },
    "kernelspec": {
      "name": "python3",
      "display_name": "Python 3"
    },
    "language_info": {
      "name": "python"
    }
  },
  "cells": [
    {
      "cell_type": "markdown",
      "source": [
        "**1: Simple Calculator for simple way to udestand**"
      ],
      "metadata": {
        "id": "VldUsOOP3-qR"
      }
    },
    {
      "cell_type": "code",
      "execution_count": null,
      "metadata": {
        "colab": {
          "base_uri": "https://localhost:8080/"
        },
        "id": "5kB_HYRY2twn",
        "outputId": "877e7441-bd01-4b05-bfad-7bcd49fc7d22"
      },
      "outputs": [
        {
          "output_type": "stream",
          "name": "stdout",
          "text": [
            "Enter first number: 25\n",
            "Enter second number: 5\n",
            "Addtion with Numbers:  30\n",
            "Subtraction with Numbers:  20\n",
            "Multiply with Numbers:  125\n",
            "Divsion with Numbers:  5.0\n"
          ]
        }
      ],
      "source": [
        "user_1 = int(input(\"Enter first number: \"))\n",
        "user_2 = int(input(\"Enter second number: \"))\n",
        "\n",
        "print(\"Addtion with Numbers: \",user_1 + user_2)\n",
        "print(\"Subtraction with Numbers: \",user_1 - user_2)\n",
        "print(\"Multiply with Numbers: \",user_1 * user_2)\n",
        "print(\"Divsion with Numbers: \",user_1 / user_2)\n"
      ]
    },
    {
      "cell_type": "markdown",
      "source": [
        "**2:  We have created  Calculator and logic building**"
      ],
      "metadata": {
        "id": "vxPuCe_k4UUS"
      }
    },
    {
      "cell_type": "code",
      "source": [
        "def calculator(num_1, num_2, opperator):\n",
        "  if opperator == \"+\": ## If Opperator equal to \"+\" Symbol then Add both number, which giving to parameter num_1 & num_2 during function calling Arguments.\n",
        "    sum = num_1+num_2\n",
        "    return sum\n",
        "\n",
        "  if opperator == \"-\": ## If Opperator equal to \"+\" Symbol then Subtraction both number, which giving to parameter num_1 & num_2 during function calling Arguments.\n",
        "    subt = num_1-num_2\n",
        "    return subt\n",
        "\n",
        "  if opperator == \"*\": ## If Opperator equal to \"+\" Symbol then multiply both number, which giving to parameter num_1 & num_2 during function calling Arguments.\n",
        "    mul = num_1*num_2\n",
        "    return mul\n",
        "\n",
        "  if opperator == \"/\": ## If Opperator equal to \"/\" Symbol then divided both number, which giving to parameter num_1 & num_2 during function calling Arguments.\n",
        "    div = num_1/num_2\n",
        "    return div\n",
        "\n",
        "print(calculator(4,7, \"+\"))\n",
        "print(calculator(20,7, \"-\"))\n",
        "print(calculator(4,12, \"*\"))\n",
        "print(calculator(120,15, \"/\"))"
      ],
      "metadata": {
        "colab": {
          "base_uri": "https://localhost:8080/"
        },
        "id": "HvJl2LI63kee",
        "outputId": "5f0c0b41-d66c-46a9-e0a7-e3cabe5a6527"
      },
      "execution_count": null,
      "outputs": [
        {
          "output_type": "stream",
          "name": "stdout",
          "text": [
            "11\n",
            "13\n",
            "48\n",
            "8.0\n"
          ]
        }
      ]
    },
    {
      "cell_type": "markdown",
      "source": [
        "**3: Now  We  created  (Calculator Type Style) and logic building**"
      ],
      "metadata": {
        "id": "ZMCmS3918KDz"
      }
    },
    {
      "cell_type": "code",
      "source": [
        "def calculator(user1,user2, opperator):\n",
        "  if opperator == \"+\": ## If Opperator equal to \"+\" Symbol then Add both number, which giving to parameter num_1 & num_2 during function calling Arguments.\n",
        "    sum = user1 + user2\n",
        "    return sum\n",
        "\n",
        "  if opperator == \"-\": ## If Opperator equal to \"+\" Symbol then Subtraction both number, which giving to parameter num_1 & num_2 during function calling Arguments.\n",
        "    sub = user1 - user2\n",
        "    return sub\n",
        "\n",
        "  if opperator == \"*\": ## If Opperator equal to \"+\" Symbol then multiply both number, which giving to parameter num_1 & num_2 during function calling Arguments.\n",
        "    mul = user1 * user2\n",
        "    return mul\n",
        "\n",
        "  if opperator == \"/\": ## If Opperator equal to \"/\" Symbol then divided both number, which giving to parameter num_1 & num_2 during function calling Arguments.\n",
        "    div = user1 / user2\n",
        "    return div\n",
        "\n",
        "user1 = float(input(\"Enter the first Number: \"))\n",
        "user2 = input(\"Enter the Operator: or Symbol like +  -  *  / \")\n",
        "user3 = float(input(\"Enter the second Number: \"))\n",
        "calculator(user1, user3,user2 )"
      ],
      "metadata": {
        "colab": {
          "base_uri": "https://localhost:8080/"
        },
        "id": "fyzzETWY51IF",
        "outputId": "4dc63200-b66e-474b-ead5-482e4cddac90"
      },
      "execution_count": null,
      "outputs": [
        {
          "name": "stdout",
          "output_type": "stream",
          "text": [
            "Enter the first Number: 5\n",
            "Enter the Operator: or Symbol like +  -  *  / *\n",
            "Enter the second Number: 5\n"
          ]
        },
        {
          "output_type": "execute_result",
          "data": {
            "text/plain": [
              "25.0"
            ]
          },
          "metadata": {},
          "execution_count": 17
        }
      ]
    },
    {
      "cell_type": "code",
      "source": [],
      "metadata": {
        "id": "-r1MKmnM-BeN"
      },
      "execution_count": null,
      "outputs": []
    }
  ]
}